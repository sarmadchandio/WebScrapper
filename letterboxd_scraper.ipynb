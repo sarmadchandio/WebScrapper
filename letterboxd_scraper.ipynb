{
  "nbformat": 4,
  "nbformat_minor": 0,
  "metadata": {
    "colab": {
      "provenance": [],
      "authorship_tag": "ABX9TyNMjnJM2L9FIHu9nDwv2bOX",
      "include_colab_link": true
    },
    "kernelspec": {
      "name": "python3",
      "display_name": "Python 3"
    },
    "language_info": {
      "name": "python"
    }
  },
  "cells": [
    {
      "cell_type": "markdown",
      "metadata": {
        "id": "view-in-github",
        "colab_type": "text"
      },
      "source": [
        "<a href=\"https://colab.research.google.com/github/sarmadchandio/WebScrapper/blob/main/letterboxd_scraper.ipynb\" target=\"_parent\"><img src=\"https://colab.research.google.com/assets/colab-badge.svg\" alt=\"Open In Colab\"/></a>"
      ]
    },
    {
      "cell_type": "code",
      "execution_count": 28,
      "metadata": {
        "cellView": "form",
        "id": "sFXfobB2qOEs"
      },
      "outputs": [],
      "source": [
        "# @title\n",
        "from bs4 import BeautifulSoup\n",
        "import requests\n",
        "from tqdm import tqdm\n",
        "import numpy as np\n",
        "import csv\n",
        "from google.colab import drive\n",
        "import os\n",
        "\n",
        "_domain = 'https://letterboxd.com/'\n",
        "\n",
        "def scrape_list(list_link):\n",
        "    \"\"\"\n",
        "    Takes in a Letterboxd link and outputs a list of film title, release year,\n",
        "    director, cast, average rating and letterboxd url\n",
        "    \"\"\"\n",
        "\n",
        "    film_rows = []\n",
        "    film_rows.append(['Film_title', 'Release_year', 'Director', 'Cast', 'Personal_rating', 'Average_rating','Letterboxd URL'])\n",
        "\n",
        "    while True:\n",
        "        list_page = requests.get(list_link)\n",
        "\n",
        "        # check to see page was downloaded correctly\n",
        "        if list_page.status_code != 200:\n",
        "            encounter_error(\"\")\n",
        "\n",
        "        soup = BeautifulSoup(list_page.content, 'html.parser')\n",
        "        # browser.get(following_url)\n",
        "\n",
        "        # grab the main film grid\n",
        "        table = soup.find('ul', class_='poster-list')\n",
        "        if table is None:\n",
        "            return None\n",
        "\n",
        "        films = table.find_all('li')\n",
        "\n",
        "        # iterate through films\n",
        "        for film in tqdm(films):\n",
        "\n",
        "            # finding the film name\n",
        "            panel = film.find('div').find('img')\n",
        "            film_name = panel['alt']\n",
        "\n",
        "            # try to find the rating of a film if possible and converting to float\n",
        "            try:\n",
        "                stars = film.find('span', class_='rating').get_text().strip()\n",
        "                rating = transform_stars(stars)\n",
        "            except:\n",
        "                rating = np.nan\n",
        "\n",
        "            # Obtaining release year, director, cast and average rating of the movie\n",
        "            film_card = film.find('div').get('data-target-link')\n",
        "            film_page = _domain + film_card\n",
        "            filmget = requests.get(film_page)\n",
        "            film_soup = BeautifulSoup(filmget.content, 'html.parser')\n",
        "\n",
        "            release_year = film_soup.find('meta', attrs={'property':'og:title'}).attrs['content'][-5:-1]\n",
        "            director = film_soup.find('meta', attrs={'name':'twitter:data1'}).attrs['content']\n",
        "\n",
        "            # try to find the cast, if not found insert a nan\n",
        "            try:\n",
        "                cast = [ line.contents[0] for line in film_soup.find('div', attrs={'id':'tab-cast'}).find_all('a')]\n",
        "\n",
        "                # remove all the 'Show All...' tags if they are present\n",
        "                cast = [i for i in cast if i != 'Show All…']\n",
        "\n",
        "            except:\n",
        "                cast = np.nan\n",
        "\n",
        "            # try to find average rating, if not insert a nan\n",
        "            try:\n",
        "                average_rating = float(film_soup.find('meta', attrs={'name':'twitter:data2'}).attrs['content'][:4])\n",
        "            except:\n",
        "                average_rating = np.nan\n",
        "\n",
        "            film_rows.append([film_name, release_year, director, cast, rating, average_rating, _domain+film_card])\n",
        "\n",
        "        # check if there is another page of ratings\n",
        "        next_button = soup.find('a', class_='next')\n",
        "        if next_button is None:\n",
        "            break\n",
        "        else:\n",
        "            list_link = _domain + next_button['href']\n",
        "\n",
        "    return film_rows\n",
        "\n",
        "def transform_stars(starstring):\n",
        "    \"\"\"\n",
        "    Transforms star rating into float value\n",
        "    \"\"\"\n",
        "    stars = {\n",
        "        \"★\": 1,\n",
        "        \"★★\": 2,\n",
        "        \"★★★\": 3,\n",
        "        \"★★★★\": 4,\n",
        "        \"★★★★★\": 5,\n",
        "        \"½\": 0.5,\n",
        "        \"★½\": 1.5,\n",
        "        \"★★½\": 2.5,\n",
        "        \"★★★½\": 3.5,\n",
        "        \"★★★★½\": 4.5\n",
        "    }\n",
        "    try:\n",
        "        return stars[starstring]\n",
        "    except:\n",
        "        return np.nan\n",
        "\n",
        "class List:\n",
        "    \"\"\"\n",
        "    List to store data pertaining to a specific list\n",
        "    \"\"\"\n",
        "\n",
        "    def __init__(self, list_name, link):\n",
        "        \"\"\"\n",
        "        :param list_name: List name for data file (if applicable):\n",
        "        :param link: The link of the list\n",
        "        \"\"\"\n",
        "\n",
        "        self.name = list_name\n",
        "        self.link = link\n",
        "        print(\"\\nScraping list data...\\n\")\n",
        "        self.films = scrape_list(self.link)\n",
        "\n",
        "\n",
        "def list_to_csv(film_rows, list_name):\n",
        "    \"\"\"\n",
        "    Takes in a list of filmrows outputted by the list_scraper()\n",
        "    and converts it to a CSV file\n",
        "\n",
        "    \"\"\"\n",
        "\n",
        "    with open(f'{list_name}.csv', 'w') as f:\n",
        "        write = csv.writer(f)\n",
        "\n",
        "        write.writerows(film_rows)\n",
        "\n",
        "    return"
      ]
    },
    {
      "cell_type": "code",
      "source": [
        "# @title\n",
        "'''\n",
        "Letterboxd List scraper - main program\n",
        "'''\n",
        "\n",
        "def main():\n",
        "    print('====================================================')\n",
        "    print('Welcome to the Letterboxd List scraper!')\n",
        "    print('Provided with an URL, this program outputs a CSV file')\n",
        "    print('of movie title, release data and Letterboxd link.')\n",
        "    print('Example url: https://letterboxd.com/.../list/short-films/).')\n",
        "    print('The program currently only supports lists and watchlists.')\n",
        "    print('Enter q or quit to exit the program.')\n",
        "    print('====================================================\\n')\n",
        "\n",
        "    # Checking if URL is of a watchlist or of a list\n",
        "    while True:\n",
        "        list_url = input('Enter the URL of the list you wish to scrape:')\n",
        "\n",
        "        # exit option\n",
        "        if list_url == 'q' or list_url == 'quit':\n",
        "            exit()\n",
        "\n",
        "        # if a watchlist proceed this way\n",
        "        elif list_url.split('/')[-3] != 'list':\n",
        "            try:\n",
        "                list_name = list_url.split('/')[-2]\n",
        "                username = list_url.split('/')[-3]\n",
        "                current_list = List(list_name, list_url)\n",
        "                break\n",
        "\n",
        "            except:\n",
        "                print('That is not a valid URL, please try again.')\n",
        "                continue\n",
        "\n",
        "        # if a list proceed this way\n",
        "        elif list_url.split('/')[-3] == 'list':\n",
        "            try:\n",
        "                list_name = list_url.split('/')[-2]\n",
        "                current_list = List(list_name, list_url)\n",
        "                break\n",
        "\n",
        "            except:\n",
        "                print('That is not a valid URL, please try again.')\n",
        "                continue\n",
        "\n",
        "    # writing to a CSV file\n",
        "    try:\n",
        "        csv_name = username + '_' + list_name\n",
        "        print(f'Writing to {csv_name}.csv.')\n",
        "        list_to_csv(current_list.films, csv_name)\n",
        "\n",
        "    except:\n",
        "        print(f'Writing to {list_name}.csv.')\n",
        "        list_to_csv(current_list.films, list_name)\n",
        "\n",
        "    print('Done!')"
      ],
      "metadata": {
        "cellView": "form",
        "id": "Qg4zYDdLqoCG"
      },
      "execution_count": 29,
      "outputs": []
    },
    {
      "cell_type": "code",
      "source": [
        "# This step connects with your google drive to store the scraped data.\n",
        "drive.mount('/content/drive')"
      ],
      "metadata": {
        "colab": {
          "base_uri": "https://localhost:8080/"
        },
        "id": "sJHf9JvJr9KJ",
        "outputId": "97223b3b-ecd7-49f5-95fa-689fb26d89d9"
      },
      "execution_count": 7,
      "outputs": [
        {
          "output_type": "stream",
          "name": "stdout",
          "text": [
            "Mounted at /content/drive\n"
          ]
        }
      ]
    },
    {
      "cell_type": "code",
      "source": [
        "# Create a letterboxd folder in your google\n",
        "if not os.path.isdir('/content/drive/MyDrive/letterboxd'):\n",
        "  !mkdir drive/MyDrive/letterboxd\n",
        "!cd /content/drive/MyDrive/letterboxd"
      ],
      "metadata": {
        "id": "N8F8XhPysOjI"
      },
      "execution_count": 33,
      "outputs": []
    },
    {
      "cell_type": "code",
      "source": [
        "# Running this cell will ask you for a url\n",
        "# It can only scrape lists from the website. An example url of a list is: https://letterboxd.com/_benferrer/list/top-50-favourite-films/\n",
        "if __name__ == \"__main__\":\n",
        "    main()"
      ],
      "metadata": {
        "colab": {
          "base_uri": "https://localhost:8080/"
        },
        "id": "sOouedZSqqQY",
        "outputId": "4c085dc8-216f-41c0-abdc-9211c3576ddd"
      },
      "execution_count": 5,
      "outputs": [
        {
          "output_type": "stream",
          "name": "stdout",
          "text": [
            "====================================================\n",
            "Welcome to the Letterboxd List scraper!\n",
            "Provided with an URL, this program outputs a CSV file\n",
            "of movie title, release data and Letterboxd link.\n",
            "Example url: https://letterboxd.com/.../list/short-films/).\n",
            "The program currently only supports lists and watchlists.\n",
            "Enter q or quit to exit the program.\n",
            "====================================================\n",
            "\n",
            "Enter the URL of the list you wish to scrape:https://letterboxd.com/_benferrer/list/top-50-favourite-films/\n",
            "\n",
            "Scraping list data...\n",
            "\n"
          ]
        },
        {
          "output_type": "stream",
          "name": "stderr",
          "text": [
            "100%|██████████| 50/50 [00:28<00:00,  1.76it/s]"
          ]
        },
        {
          "output_type": "stream",
          "name": "stdout",
          "text": [
            "Writing to top-50-favourite-films.csv.\n",
            "Done!\n"
          ]
        },
        {
          "output_type": "stream",
          "name": "stderr",
          "text": [
            "\n"
          ]
        }
      ]
    },
    {
      "cell_type": "code",
      "source": [],
      "metadata": {
        "id": "0XdvmT4DquZV"
      },
      "execution_count": null,
      "outputs": []
    }
  ]
}